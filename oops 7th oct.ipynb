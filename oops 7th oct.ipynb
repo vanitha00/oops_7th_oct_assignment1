{
 "cells": [
  {
   "cell_type": "code",
   "execution_count": 9,
   "metadata": {},
   "outputs": [],
   "source": [
    "class a :\n",
    "    \n",
    "    def test(self):\n",
    "        print(\"this test method is a part of class a\")\n",
    "        \n",
    "    def test1(self):\n",
    "        print(\"this is test1 from class a \")"
   ]
  },
  {
   "cell_type": "code",
   "execution_count": 10,
   "metadata": {},
   "outputs": [],
   "source": [
    "obj_a = a()"
   ]
  },
  {
   "cell_type": "code",
   "execution_count": 11,
   "metadata": {},
   "outputs": [
    {
     "name": "stdout",
     "output_type": "stream",
     "text": [
      "this test method is a part of class a\n"
     ]
    }
   ],
   "source": [
    "obj_a.test()"
   ]
  },
  {
   "cell_type": "code",
   "execution_count": 16,
   "metadata": {},
   "outputs": [],
   "source": [
    "class b(a) :\n",
    "    def test1b(self):\n",
    "        print(\"this is a part of class b \")"
   ]
  },
  {
   "cell_type": "code",
   "execution_count": 17,
   "metadata": {},
   "outputs": [],
   "source": [
    "obj_b = b()"
   ]
  },
  {
   "cell_type": "code",
   "execution_count": 18,
   "metadata": {},
   "outputs": [
    {
     "name": "stdout",
     "output_type": "stream",
     "text": [
      "this test method is a part of class a\n"
     ]
    }
   ],
   "source": [
    "obj_b.test()"
   ]
  },
  {
   "cell_type": "code",
   "execution_count": 19,
   "metadata": {},
   "outputs": [
    {
     "name": "stdout",
     "output_type": "stream",
     "text": [
      "this is test1 from class a \n"
     ]
    }
   ],
   "source": [
    "obj_b.test1()"
   ]
  },
  {
   "cell_type": "code",
   "execution_count": null,
   "metadata": {},
   "outputs": [],
   "source": [
    "obj_b."
   ]
  },
  {
   "cell_type": "code",
   "execution_count": 21,
   "metadata": {},
   "outputs": [],
   "source": [
    "class lecture:\n",
    "    \n",
    "    def topic(self):\n",
    "        print(\"todays class we are discussing about inheritance condept in oops\")\n",
    "        \n",
    "    def timing(self):\n",
    "        print(\"timing for todays class is 9 AM IST\")\n",
    "        \n",
    "    def end_time(self):\n",
    "        print(\"today i will try to end class bit early\")"
   ]
  },
  {
   "cell_type": "code",
   "execution_count": 23,
   "metadata": {},
   "outputs": [],
   "source": [
    "class student(lecture):\n",
    "    \n",
    "    def student_details(self):\n",
    "        print(\"this class will give you a student details\")"
   ]
  },
  {
   "cell_type": "code",
   "execution_count": 24,
   "metadata": {},
   "outputs": [],
   "source": [
    "naval = student()"
   ]
  },
  {
   "cell_type": "code",
   "execution_count": 25,
   "metadata": {},
   "outputs": [
    {
     "name": "stdout",
     "output_type": "stream",
     "text": [
      "todays class we are discussing about inheritance condept in oops\n"
     ]
    }
   ],
   "source": [
    "naval.topic()"
   ]
  },
  {
   "cell_type": "code",
   "execution_count": 26,
   "metadata": {},
   "outputs": [
    {
     "name": "stdout",
     "output_type": "stream",
     "text": [
      "timing for todays class is 9 AM IST\n"
     ]
    }
   ],
   "source": [
    "satish = student()\n",
    "satish.timing()"
   ]
  },
  {
   "cell_type": "code",
   "execution_count": 28,
   "metadata": {},
   "outputs": [],
   "source": [
    "class teacher(student):\n",
    "    def details(self):\n",
    "        print(\"this will give you a details about teacher\")"
   ]
  },
  {
   "cell_type": "code",
   "execution_count": 29,
   "metadata": {},
   "outputs": [
    {
     "name": "stdout",
     "output_type": "stream",
     "text": [
      "timing for todays class is 9 AM IST\n"
     ]
    }
   ],
   "source": [
    "sudh = teacher()\n",
    "sudh.timing()"
   ]
  },
  {
   "cell_type": "code",
   "execution_count": 39,
   "metadata": {},
   "outputs": [],
   "source": [
    "class lecture:\n",
    "    def topic(self):\n",
    "        print(\"todays class we are discussing about inheritance condept in oops\")\n",
    "        \n",
    "    def timing(self):\n",
    "        print(\"timing for todays class is 9 AM IST\")\n",
    "        \n",
    "    def end_time(self):\n",
    "        print(\"today i will try to end class bit early\")"
   ]
  },
  {
   "cell_type": "code",
   "execution_count": 40,
   "metadata": {},
   "outputs": [],
   "source": [
    "class student:\n",
    "    \n",
    "    def student_details(self):\n",
    "        print(\"this class will give you a student details\")\n",
    "        \n",
    "    def timing(self):\n",
    "        print(\"this is a timing fun from student class\")\n",
    "        "
   ]
  },
  {
   "cell_type": "code",
   "execution_count": 48,
   "metadata": {},
   "outputs": [],
   "source": [
    "class teacher(lecture,student):\n",
    "    def details(self):\n",
    "        print(\"this will give you a details about teacher\")"
   ]
  },
  {
   "cell_type": "code",
   "execution_count": 49,
   "metadata": {},
   "outputs": [],
   "source": [
    "krish = teacher()"
   ]
  },
  {
   "cell_type": "code",
   "execution_count": 50,
   "metadata": {},
   "outputs": [
    {
     "name": "stdout",
     "output_type": "stream",
     "text": [
      "timing for todays class is 9 AM IST\n"
     ]
    }
   ],
   "source": [
    "krish.timing()"
   ]
  },
  {
   "cell_type": "code",
   "execution_count": 37,
   "metadata": {},
   "outputs": [
    {
     "name": "stdout",
     "output_type": "stream",
     "text": [
      "this class will give you a student details\n"
     ]
    }
   ],
   "source": [
    "krish.student_details()"
   ]
  },
  {
   "cell_type": "markdown",
   "metadata": {},
   "source": [
    "Problem 1: Bank Account Create a class representing a bank account with attributes like account number, account holder name, and balance. Implement methods to deposit and withdraw money from the account.\n",
    "\n",
    "Problem 2: Employee Management Create a class representing an employee with attributes like employee ID, name, and salary. Implement methods to calculate the yearly bonus and display employee details.\n",
    "\n",
    "Problem 3: Vehicle Rental Create a class representing a vehicle rental system. Implement methods to rent a vehicle, return a vehicle, and display available vehicles.\n",
    "\n",
    "Problem 4: Library Catalog Create classes representing a library and a book. Implement methods to add books to the library, borrow books, and display available books.\n",
    "\n",
    "Problem 5: Product Inventory Create classes representing a product and an inventory system. Implement methods to add products to the inventory, update product quantity, and display available products.\n",
    "\n",
    "Problem 6: Shape Calculation Create a class representing a shape with attributes like length, width, and height. Implement methods to calculate the area and perimeter of the shape.\n",
    "\n",
    "Problem 7: Student Management Create a class representing a student with attributes like student ID, name, and grades. Implement methods to calculate the average grade and display student details.\n",
    "\n",
    "Problem 8: Email Management Create a class representing an email with attributes like sender, recipient, and subject. Implement methods to send an email and display email details.\n",
    "\n",
    "Problem 9: Social Media Profile Create a class representing a social media profile with attributes like username and posts. Implement methods to add posts, display posts, and search for posts by keyword.\n",
    "\n",
    "Problem 10: ToDo List Create a class representing a ToDo list with attributes like tasks and due dates. Implement methods to add tasks, mark tasks as completed, and display pending tasks."
   ]
  },
  {
   "cell_type": "code",
   "execution_count": 2,
   "metadata": {},
   "outputs": [
    {
     "name": "stdout",
     "output_type": "stream",
     "text": [
      "Account Balance for sreekvanitha (Account #123456789): $1000.0\n",
      "Deposited $500.0. New balance: $1500.0\n",
      "Withdrew $200.0. New balance: $1300.0\n",
      "Account Balance for sreekvanitha (Account #123456789): $1300.0\n"
     ]
    }
   ],
   "source": [
    "class BankAccount:\n",
    "    def __init__(self, account_number, account_holder_name, balance=0.0):\n",
    "        self.account_number = account_number\n",
    "        self.account_holder_name = account_holder_name\n",
    "        self.balance = balance\n",
    "\n",
    "    def deposit(self, amount):\n",
    "        if amount > 0:\n",
    "            self.balance += amount\n",
    "            print(f\"Deposited ${amount}. New balance: ${self.balance}\")\n",
    "        else:\n",
    "            print(\"Invalid deposit amount. Please enter a positive value.\")\n",
    "\n",
    "    def withdraw(self, amount):\n",
    "        if amount > 0 and amount <= self.balance:\n",
    "            self.balance -= amount\n",
    "            print(f\"Withdrew ${amount}. New balance: ${self.balance}\")\n",
    "        else:\n",
    "            print(\"Invalid withdrawal amount or insufficient funds.\")\n",
    "\n",
    "    def display_balance(self):\n",
    "        print(f\"Account Balance for {self.account_holder_name} (Account #{self.account_number}): ${self.balance}\")\n",
    "\n",
    "account1 = BankAccount(account_number=\"123456789\", account_holder_name=\"sreekvanitha\", balance=1000.0)\n",
    "\n",
    "account1.display_balance()  # Display initial balance\n",
    "\n",
    "account1.deposit(500.0)  # Deposit $500\n",
    "account1.withdraw(200.0)  # Withdraw $200\n",
    "\n",
    "account1.display_balance()  # Display updated balance\n"
   ]
  },
  {
   "cell_type": "code",
   "execution_count": 3,
   "metadata": {},
   "outputs": [
    {
     "name": "stdout",
     "output_type": "stream",
     "text": [
      "Employee ID: E123\n",
      "Name: Alice\n",
      "Salary: $60000.0\n",
      "----------------------\n",
      "Yearly Bonus: $6000.0\n",
      "Employee ID: E123\n",
      "Name: Alice\n",
      "Salary: $60000.0\n",
      "----------------------\n"
     ]
    }
   ],
   "source": [
    "class Employee:\n",
    "    def __init__(self, employee_id, name, salary):\n",
    "        self.employee_id = employee_id\n",
    "        self.name = name\n",
    "        self.salary = salary\n",
    "\n",
    "    def calculate_yearly_bonus(self, bonus_percentage):\n",
    "        if 0 <= bonus_percentage <= 100:\n",
    "            bonus_amount = (bonus_percentage / 100) * self.salary\n",
    "            return bonus_amount\n",
    "        else:\n",
    "            print(\"Invalid bonus percentage. Please enter a value between 0 and 100.\")\n",
    "            return 0\n",
    "\n",
    "    def display_employee_details(self):\n",
    "        print(f\"Employee ID: {self.employee_id}\")\n",
    "        print(f\"Name: {self.name}\")\n",
    "        print(f\"Salary: ${self.salary}\")\n",
    "        print(\"----------------------\")\n",
    "\n",
    "employee1 = Employee(employee_id=\"E123\", name=\"Alice\", salary=60000.0)\n",
    "\n",
    "employee1.display_employee_details()  # Display initial employee details\n",
    "\n",
    "bonus_percentage = 10  # Assume a 10% bonus\n",
    "bonus_amount = employee1.calculate_yearly_bonus(bonus_percentage)\n",
    "print(f\"Yearly Bonus: ${bonus_amount}\")\n",
    "\n",
    "employee1.display_employee_details()  # Display updated employee details\n"
   ]
  },
  {
   "cell_type": "code",
   "execution_count": 4,
   "metadata": {},
   "outputs": [
    {
     "name": "stdout",
     "output_type": "stream",
     "text": [
      "Available Vehicles:\n",
      "ID: V001, Type: Car\n",
      "ID: V002, Type: Bike\n",
      "ID: V003, Type: Truck\n",
      "----------------------\n",
      "Vehicle V001 rented successfully.\n",
      "Cannot return vehicle V002. Invalid vehicle ID or already returned.\n",
      "Available Vehicles:\n",
      "ID: V002, Type: Bike\n",
      "ID: V003, Type: Truck\n",
      "----------------------\n"
     ]
    }
   ],
   "source": [
    "class Vehicle:\n",
    "    def __init__(self, vehicle_id, vehicle_type, is_available=True):\n",
    "        self.vehicle_id = vehicle_id\n",
    "        self.vehicle_type = vehicle_type\n",
    "        self.is_available = is_available\n",
    "\n",
    "class VehicleRentalSystem:\n",
    "    def __init__(self):\n",
    "        self.available_vehicles = []\n",
    "\n",
    "    def add_vehicle(self, vehicle):\n",
    "        self.available_vehicles.append(vehicle)\n",
    "\n",
    "    def rent_vehicle(self, vehicle_id):\n",
    "        for vehicle in self.available_vehicles:\n",
    "            if vehicle.vehicle_id == vehicle_id and vehicle.is_available:\n",
    "                vehicle.is_available = False\n",
    "                print(f\"Vehicle {vehicle_id} rented successfully.\")\n",
    "                return\n",
    "        print(f\"Vehicle {vehicle_id} not available for rent or does not exist.\")\n",
    "\n",
    "    def return_vehicle(self, vehicle_id):\n",
    "        for vehicle in self.available_vehicles:\n",
    "            if vehicle.vehicle_id == vehicle_id and not vehicle.is_available:\n",
    "                vehicle.is_available = True\n",
    "                print(f\"Vehicle {vehicle_id} returned successfully.\")\n",
    "                return\n",
    "        print(f\"Cannot return vehicle {vehicle_id}. Invalid vehicle ID or already returned.\")\n",
    "\n",
    "    def display_available_vehicles(self):\n",
    "        print(\"Available Vehicles:\")\n",
    "        for vehicle in self.available_vehicles:\n",
    "            if vehicle.is_available:\n",
    "                print(f\"ID: {vehicle.vehicle_id}, Type: {vehicle.vehicle_type}\")\n",
    "        print(\"----------------------\")\n",
    "\n",
    "vehicle1 = Vehicle(vehicle_id=\"V001\", vehicle_type=\"Car\")\n",
    "vehicle2 = Vehicle(vehicle_id=\"V002\", vehicle_type=\"Bike\")\n",
    "vehicle3 = Vehicle(vehicle_id=\"V003\", vehicle_type=\"Truck\")\n",
    "\n",
    "rental_system = VehicleRentalSystem()\n",
    "\n",
    "rental_system.add_vehicle(vehicle1)\n",
    "rental_system.add_vehicle(vehicle2)\n",
    "rental_system.add_vehicle(vehicle3)\n",
    "\n",
    "rental_system.display_available_vehicles()\n",
    "\n",
    "rental_system.rent_vehicle(\"V001\")\n",
    "rental_system.return_vehicle(\"V002\")\n",
    "\n",
    "rental_system.display_available_vehicles()\n"
   ]
  },
  {
   "cell_type": "code",
   "execution_count": 5,
   "metadata": {},
   "outputs": [
    {
     "name": "stdout",
     "output_type": "stream",
     "text": [
      "Available Books:\n",
      "ID: B001, Title: 'The Great Gatsby', Author: F. Scott Fitzgerald\n",
      "ID: B002, Title: 'To Kill a Mockingbird', Author: Harper Lee\n",
      "ID: B003, Title: '1984', Author: George Orwell\n",
      "----------------------\n",
      "Book 'The Great Gatsby' by F. Scott Fitzgerald borrowed successfully.\n",
      "Cannot return book with ID B002. Invalid book ID or already returned.\n",
      "Available Books:\n",
      "ID: B002, Title: 'To Kill a Mockingbird', Author: Harper Lee\n",
      "ID: B003, Title: '1984', Author: George Orwell\n",
      "----------------------\n"
     ]
    }
   ],
   "source": [
    "class Book:\n",
    "    def __init__(self, book_id, title, author, is_available=True):\n",
    "        self.book_id = book_id\n",
    "        self.title = title\n",
    "        self.author = author\n",
    "        self.is_available = is_available\n",
    "\n",
    "class Library:\n",
    "    def __init__(self):\n",
    "        self.books = []\n",
    "\n",
    "    def add_book(self, book):\n",
    "        self.books.append(book)\n",
    "\n",
    "    def borrow_book(self, book_id):\n",
    "        for book in self.books:\n",
    "            if book.book_id == book_id and book.is_available:\n",
    "                book.is_available = False\n",
    "                print(f\"Book '{book.title}' by {book.author} borrowed successfully.\")\n",
    "                return\n",
    "        print(f\"Book with ID {book_id} is not available for borrowing or does not exist.\")\n",
    "\n",
    "    def return_book(self, book_id):\n",
    "        for book in self.books:\n",
    "            if book.book_id == book_id and not book.is_available:\n",
    "                book.is_available = True\n",
    "                print(f\"Book '{book.title}' by {book.author} returned successfully.\")\n",
    "                return\n",
    "        print(f\"Cannot return book with ID {book_id}. Invalid book ID or already returned.\")\n",
    "\n",
    "    def display_available_books(self):\n",
    "        print(\"Available Books:\")\n",
    "        for book in self.books:\n",
    "            if book.is_available:\n",
    "                print(f\"ID: {book.book_id}, Title: '{book.title}', Author: {book.author}\")\n",
    "        print(\"----------------------\")\n",
    "\n",
    "book1 = Book(book_id=\"B001\", title=\"The Great Gatsby\", author=\"F. Scott Fitzgerald\")\n",
    "book2 = Book(book_id=\"B002\", title=\"To Kill a Mockingbird\", author=\"Harper Lee\")\n",
    "book3 = Book(book_id=\"B003\", title=\"1984\", author=\"George Orwell\")\n",
    "\n",
    "library = Library()\n",
    "\n",
    "library.add_book(book1)\n",
    "library.add_book(book2)\n",
    "library.add_book(book3)\n",
    "\n",
    "library.display_available_books()\n",
    "\n",
    "library.borrow_book(\"B001\")\n",
    "library.return_book(\"B002\")\n",
    "\n",
    "library.display_available_books()\n"
   ]
  },
  {
   "cell_type": "code",
   "execution_count": 6,
   "metadata": {},
   "outputs": [
    {
     "name": "stdout",
     "output_type": "stream",
     "text": [
      "Available Products:\n",
      "ID: P001, Name: 'Laptop', Price: $1200.0, Quantity: 10\n",
      "ID: P002, Name: 'Smartphone', Price: $600.0, Quantity: 20\n",
      "ID: P003, Name: 'Headphones', Price: $50.0, Quantity: 30\n",
      "----------------------\n",
      "Quantity for product 'Laptop' updated to 8.\n",
      "Quantity for product 'Smartphone' updated to 15.\n",
      "Available Products:\n",
      "ID: P001, Name: 'Laptop', Price: $1200.0, Quantity: 8\n",
      "ID: P002, Name: 'Smartphone', Price: $600.0, Quantity: 15\n",
      "ID: P003, Name: 'Headphones', Price: $50.0, Quantity: 30\n",
      "----------------------\n"
     ]
    }
   ],
   "source": [
    "class Product:\n",
    "    def __init__(self, product_id, name, price, quantity):\n",
    "        self.product_id = product_id\n",
    "        self.name = name\n",
    "        self.price = price\n",
    "        self.quantity = quantity\n",
    "\n",
    "class InventorySystem:\n",
    "    def __init__(self):\n",
    "        self.products = []\n",
    "\n",
    "    def add_product(self, product):\n",
    "        self.products.append(product)\n",
    "\n",
    "    def update_quantity(self, product_id, new_quantity):\n",
    "        for product in self.products:\n",
    "            if product.product_id == product_id:\n",
    "                product.quantity = new_quantity\n",
    "                print(f\"Quantity for product '{product.name}' updated to {new_quantity}.\")\n",
    "                return\n",
    "        print(f\"Product with ID {product_id} not found in the inventory.\")\n",
    "\n",
    "    def display_available_products(self):\n",
    "        print(\"Available Products:\")\n",
    "        for product in self.products:\n",
    "            print(f\"ID: {product.product_id}, Name: '{product.name}', Price: ${product.price}, Quantity: {product.quantity}\")\n",
    "        print(\"----------------------\")\n",
    "\n",
    "# Example usage:\n",
    "product1 = Product(product_id=\"P001\", name=\"Laptop\", price=1200.0, quantity=10)\n",
    "product2 = Product(product_id=\"P002\", name=\"Smartphone\", price=600.0, quantity=20)\n",
    "product3 = Product(product_id=\"P003\", name=\"Headphones\", price=50.0, quantity=30)\n",
    "\n",
    "inventory_system = InventorySystem()\n",
    "\n",
    "inventory_system.add_product(product1)\n",
    "inventory_system.add_product(product2)\n",
    "inventory_system.add_product(product3)\n",
    "\n",
    "inventory_system.display_available_products()\n",
    "\n",
    "inventory_system.update_quantity(\"P001\", 8)\n",
    "inventory_system.update_quantity(\"P002\", 15)\n",
    "\n",
    "inventory_system.display_available_products()\n"
   ]
  },
  {
   "cell_type": "code",
   "execution_count": 7,
   "metadata": {},
   "outputs": [
    {
     "name": "stdout",
     "output_type": "stream",
     "text": [
      "Rectangle Area: 15\n",
      "Rectangle Perimeter: 16\n",
      "Square Area: 16\n",
      "Square Perimeter: 16\n",
      "Circle Area: 12.566370614359172\n",
      "Circle Circumference: 12.566370614359172\n"
     ]
    }
   ],
   "source": [
    "import math\n",
    "\n",
    "class Shape:\n",
    "    def __init__(self, length=0, width=0, height=0):\n",
    "        self.length = length\n",
    "        self.width = width\n",
    "        self.height = height\n",
    "\n",
    "    def calculate_area(self):\n",
    "        pass  # Each specific shape class will implement its own area calculation\n",
    "\n",
    "    def calculate_perimeter(self):\n",
    "        pass  # Each specific shape class will implement its own perimeter calculation\n",
    "\n",
    "class Rectangle(Shape):\n",
    "    def calculate_area(self):\n",
    "        return self.length * self.width\n",
    "\n",
    "    def calculate_perimeter(self):\n",
    "        return 2 * (self.length + self.width)\n",
    "\n",
    "class Square(Rectangle):\n",
    "    def __init__(self, side_length):\n",
    "        super().__init__(length=side_length, width=side_length)\n",
    "\n",
    "class Circle(Shape):\n",
    "    def calculate_area(self):\n",
    "        return math.pi * (self.length ** 2)\n",
    "\n",
    "    def calculate_perimeter(self):\n",
    "        return 2 * math.pi * self.length\n",
    "\n",
    "# Example usage:\n",
    "rectangle = Rectangle(length=5, width=3)\n",
    "print(f\"Rectangle Area: {rectangle.calculate_area()}\")\n",
    "print(f\"Rectangle Perimeter: {rectangle.calculate_perimeter()}\")\n",
    "\n",
    "square = Square(side_length=4)\n",
    "print(f\"Square Area: {square.calculate_area()}\")\n",
    "print(f\"Square Perimeter: {square.calculate_perimeter()}\")\n",
    "\n",
    "circle = Circle(length=2)\n",
    "print(f\"Circle Area: {circle.calculate_area()}\")\n",
    "print(f\"Circle Circumference: {circle.calculate_perimeter()}\")\n"
   ]
  },
  {
   "cell_type": "code",
   "execution_count": 9,
   "metadata": {},
   "outputs": [
    {
     "name": "stdout",
     "output_type": "stream",
     "text": [
      "Student ID: o190391\n",
      "Name: vanitha\n",
      "Grades: [85, 90, 78, 92]\n",
      "Average Grade: 86.25\n",
      "----------------------\n",
      "Student ID: o190366\n",
      "Name: pavani\n",
      "Grades: [75, 88, 92, 80]\n",
      "Average Grade: 83.75\n",
      "----------------------\n",
      "Student ID: o190363\n",
      "Name: thulasi\n",
      "Grades: [95, 89, 93, 98]\n",
      "Average Grade: 93.75\n",
      "----------------------\n"
     ]
    }
   ],
   "source": [
    "class Student:\n",
    "    def __init__(self, student_id, name, grades=[]):\n",
    "        self.student_id = student_id\n",
    "        self.name = name\n",
    "        self.grades = grades\n",
    "\n",
    "    def add_grade(self, grade):\n",
    "        self.grades.append(grade)\n",
    "\n",
    "    def calculate_average_grade(self):\n",
    "        if not self.grades:\n",
    "            return 0\n",
    "        return sum(self.grades) / len(self.grades)\n",
    "\n",
    "    def display_student_details(self):\n",
    "        print(f\"Student ID: {self.student_id}\")\n",
    "        print(f\"Name: {self.name}\")\n",
    "        print(\"Grades:\", self.grades)\n",
    "        print(f\"Average Grade: {self.calculate_average_grade()}\")\n",
    "        print(\"----------------------\")\n",
    "\n",
    "# Example usage:\n",
    "student1 = Student(student_id=\"o190391\", name=\"vanitha\", grades=[85, 90, 78, 92])\n",
    "student2 = Student(student_id=\"o190366\", name=\"pavani\", grades=[75, 88, 92, 80])\n",
    "student3 = Student(student_id=\"o190363\", name=\"thulasi\", grades=[95, 89, 93, 98])\n",
    "\n",
    "student1.display_student_details()\n",
    "student2.display_student_details()\n",
    "student3.display_student_details()\n"
   ]
  },
  {
   "cell_type": "code",
   "execution_count": 10,
   "metadata": {},
   "outputs": [
    {
     "name": "stdout",
     "output_type": "stream",
     "text": [
      "Email Details:\n",
      "Sender: user1@example.com\n",
      "Recipient: user2@example.com\n",
      "Subject: Meeting Tomorrow\n",
      "Body:\n",
      "Hi, let's meet tomorrow at 2 PM.\n",
      "Status: Not Sent\n",
      "----------------------\n",
      "Email sent from user1@example.com to user2@example.com with subject 'Meeting Tomorrow'.\n",
      "Email Details:\n",
      "Sender: user1@example.com\n",
      "Recipient: user2@example.com\n",
      "Subject: Meeting Tomorrow\n",
      "Body:\n",
      "Hi, let's meet tomorrow at 2 PM.\n",
      "Status: Sent\n",
      "----------------------\n",
      "Email Details:\n",
      "Sender: user3@example.com\n",
      "Recipient: user1@example.com\n",
      "Subject: Project Update\n",
      "Body:\n",
      "Here is the latest project update.\n",
      "Status: Not Sent\n",
      "----------------------\n"
     ]
    }
   ],
   "source": [
    "class Email:\n",
    "    def __init__(self, sender, recipient, subject, body):\n",
    "        self.sender = sender\n",
    "        self.recipient = recipient\n",
    "        self.subject = subject\n",
    "        self.body = body\n",
    "        self.is_sent = False\n",
    "\n",
    "    def send_email(self):\n",
    "        # Implement the logic to send the email (e.g., through an email server)\n",
    "        # For simplicity, this example just marks the email as sent.\n",
    "        self.is_sent = True\n",
    "        print(f\"Email sent from {self.sender} to {self.recipient} with subject '{self.subject}'.\")\n",
    "\n",
    "    def display_email_details(self):\n",
    "        print(\"Email Details:\")\n",
    "        print(f\"Sender: {self.sender}\")\n",
    "        print(f\"Recipient: {self.recipient}\")\n",
    "        print(f\"Subject: {self.subject}\")\n",
    "        print(\"Body:\")\n",
    "        print(self.body)\n",
    "        print(f\"Status: {'Sent' if self.is_sent else 'Not Sent'}\")\n",
    "        print(\"----------------------\")\n",
    "\n",
    "# Example usage:\n",
    "email1 = Email(sender=\"user1@example.com\", recipient=\"user2@example.com\", subject=\"Meeting Tomorrow\", body=\"Hi, let's meet tomorrow at 2 PM.\")\n",
    "email2 = Email(sender=\"user3@example.com\", recipient=\"user1@example.com\", subject=\"Project Update\", body=\"Here is the latest project update.\")\n",
    "\n",
    "email1.display_email_details()\n",
    "email1.send_email()\n",
    "email1.display_email_details()\n",
    "\n",
    "email2.display_email_details()\n"
   ]
  },
  {
   "cell_type": "code",
   "execution_count": 11,
   "metadata": {},
   "outputs": [
    {
     "name": "stdout",
     "output_type": "stream",
     "text": [
      "Post added to user1's profile.\n",
      "Post added to user1's profile.\n",
      "Post added to user2's profile.\n",
      "Posts by user1:\n",
      "1. Just had a great day at the beach!\n",
      "2. Working on a new project. Excited!\n",
      "----------------------\n",
      "Posts by user2:\n",
      "1. Visited a museum today. Learned a lot!\n",
      "----------------------\n",
      "Posts by user1 containing 'beach':\n",
      "1. Just had a great day at the beach!\n",
      "----------------------\n",
      "No posts by user2 containing 'travel'.\n",
      "----------------------\n"
     ]
    }
   ],
   "source": [
    "class SocialMediaProfile:\n",
    "    def __init__(self, username):\n",
    "        self.username = username\n",
    "        self.posts = []\n",
    "\n",
    "    def add_post(self, post_content):\n",
    "        self.posts.append(post_content)\n",
    "        print(f\"Post added to {self.username}'s profile.\")\n",
    "\n",
    "    def display_posts(self):\n",
    "        print(f\"Posts by {self.username}:\")\n",
    "        for i, post in enumerate(self.posts, start=1):\n",
    "            print(f\"{i}. {post}\")\n",
    "        print(\"----------------------\")\n",
    "\n",
    "    def search_posts(self, keyword):\n",
    "        matching_posts = [post for post in self.posts if keyword.lower() in post.lower()]\n",
    "        if matching_posts:\n",
    "            print(f\"Posts by {self.username} containing '{keyword}':\")\n",
    "            for i, post in enumerate(matching_posts, start=1):\n",
    "                print(f\"{i}. {post}\")\n",
    "        else:\n",
    "            print(f\"No posts by {self.username} containing '{keyword}'.\")\n",
    "        print(\"----------------------\")\n",
    "\n",
    "# Example usage:\n",
    "profile1 = SocialMediaProfile(username=\"user1\")\n",
    "profile2 = SocialMediaProfile(username=\"user2\")\n",
    "\n",
    "profile1.add_post(\"Just had a great day at the beach!\")\n",
    "profile1.add_post(\"Working on a new project. Excited!\")\n",
    "\n",
    "profile2.add_post(\"Visited a museum today. Learned a lot!\")\n",
    "\n",
    "profile1.display_posts()\n",
    "profile2.display_posts()\n",
    "\n",
    "profile1.search_posts(\"beach\")\n",
    "profile2.search_posts(\"travel\")\n"
   ]
  },
  {
   "cell_type": "code",
   "execution_count": 12,
   "metadata": {},
   "outputs": [
    {
     "name": "stdout",
     "output_type": "stream",
     "text": [
      "Task 'Write report' added to the ToDo list.\n",
      "Task 'Prepare presentation' added to the ToDo list.\n",
      "Task 'Read a book' added to the ToDo list.\n",
      "Pending Tasks:\n",
      "1. Write report - Due Date: 2022-02-10\n",
      "2. Prepare presentation - Due Date: 2022-02-15\n",
      "3. Read a book - Due Date: None\n",
      "----------------------\n",
      "Task 'Prepare presentation' marked as completed.\n",
      "Pending Tasks:\n",
      "1. Write report - Due Date: 2022-02-10\n",
      "2. Read a book - Due Date: None\n",
      "----------------------\n"
     ]
    }
   ],
   "source": [
    "class ToDoList:\n",
    "    def __init__(self):\n",
    "        self.tasks = []\n",
    "\n",
    "    def add_task(self, task, due_date=None):\n",
    "        self.tasks.append({\"task\": task, \"due_date\": due_date, \"completed\": False})\n",
    "        print(f\"Task '{task}' added to the ToDo list.\")\n",
    "\n",
    "    def mark_task_as_completed(self, task_index):\n",
    "        if 0 <= task_index < len(self.tasks):\n",
    "            self.tasks[task_index][\"completed\"] = True\n",
    "            print(f\"Task '{self.tasks[task_index]['task']}' marked as completed.\")\n",
    "        else:\n",
    "            print(\"Invalid task index.\")\n",
    "\n",
    "    def display_pending_tasks(self):\n",
    "        pending_tasks = [task for task in self.tasks if not task[\"completed\"]]\n",
    "        if pending_tasks:\n",
    "            print(\"Pending Tasks:\")\n",
    "            for i, task in enumerate(pending_tasks, start=1):\n",
    "                print(f\"{i}. {task['task']} - Due Date: {task['due_date']}\")\n",
    "        else:\n",
    "            print(\"No pending tasks.\")\n",
    "        print(\"----------------------\")\n",
    "\n",
    "# Example usage:\n",
    "todo_list = ToDoList()\n",
    "\n",
    "todo_list.add_task(\"Write report\", due_date=\"2022-02-10\")\n",
    "todo_list.add_task(\"Prepare presentation\", due_date=\"2022-02-15\")\n",
    "todo_list.add_task(\"Read a book\")\n",
    "\n",
    "todo_list.display_pending_tasks()\n",
    "\n",
    "todo_list.mark_task_as_completed(1)\n",
    "\n",
    "todo_list.display_pending_tasks()\n"
   ]
  }
 ],
 "metadata": {
  "kernelspec": {
   "display_name": "Python 3",
   "language": "python",
   "name": "python3"
  },
  "language_info": {
   "codemirror_mode": {
    "name": "ipython",
    "version": 3
   },
   "file_extension": ".py",
   "mimetype": "text/x-python",
   "name": "python",
   "nbconvert_exporter": "python",
   "pygments_lexer": "ipython3",
   "version": "3.7.3"
  }
 },
 "nbformat": 4,
 "nbformat_minor": 5
}
